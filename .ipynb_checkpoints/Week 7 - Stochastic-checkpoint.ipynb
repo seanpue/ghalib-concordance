{
 "metadata": {
  "name": "",
  "signature": "sha256:efaadab02d63cbc17a2257f300d6ec517d9ef09bb9694c692b940990504e9af4"
 },
 "nbformat": 3,
 "nbformat_minor": 0,
 "worksheets": [
  {
   "cells": [
    {
     "cell_type": "markdown",
     "metadata": {},
     "source": [
      "Stochastic signals\n",
      "\n",
      "Described by the laws of probablity; mean, variance, probability distributions"
     ]
    },
    {
     "cell_type": "markdown",
     "metadata": {},
     "source": [
      "### Autocorrelation\n",
      "\n",
      "$Z_xx[k]=\\sum\\limits_{n=0}^{n=N-1} x[n]x[n+k]$ $k-N+1,...,N-1$\n",
      "\n",
      "Measure periodicity of a signal, or degree of repeating patterns\n",
      "\n",
      "Can be used to measure stochasticity; the lower the value, the higher the stochasticity"
     ]
    },
    {
     "cell_type": "markdown",
     "metadata": {},
     "source": [
      "### Power spectral density\n",
      "\n",
      "$Xp[k] = lim_{N->\\infty }|X[k]|^2$\n",
      "\n",
      "where\n",
      "\n",
      "$X[k]=\\sum\\limits_{n=0}^{N-1}x[n]e^{-j2\\pi kn/N}$ $k=0,..,N-1,N$\n",
      "\n",
      "basically the DFT to the limit; square value of the absolute value of the DFT\n",
      "N-> infiity; converges to  a function that is our spectral density\n"
     ]
    },
    {
     "cell_type": "markdown",
     "metadata": {},
     "source": [
      "### Stochastic model\n",
      "\n",
      "There are many. We will use:\n",
      "    \n",
      "$yst[n]=\\sum\\limits_{k=0}^{N-1} u[n]h[n-k]$\n",
      "\n",
      "$u[n]$: white noise\n",
      "\n",
      "$h[n]$: impulse response of filter approximating input signal x[n]\n",
      "\n",
      "Convolution of two signals; convolution of signal with white noise"
     ]
    },
    {
     "cell_type": "markdown",
     "metadata": {},
     "source": [
      "##### Spectral view:\n",
      "    \n",
      "$Yst_l[k]=|H_l[k]||U[k]|e^{j(\\sphericalangle H[k]+\\sphericalangle U[k])} =|\\hat{X}_l[k]|e^{j\\sphericalangle U[k]}$\n",
      "\n",
      "$\\hat{X}[k]|$: approximation of magnitude spectrum of input single $x[n]$\n",
      "\n",
      "$\\sphericalangle U[k]:$ spectral phases of noise signal\n",
      "\n",
      "$l$: frame number\n",
      "\n",
      "Convolution in the spectral domain is the product of the two spectra\n",
      "\n",
      "In polar coordinates, the product of two magnitude spectra multiplied by exponential e to the j and the sum of the two phase spectra\n",
      "\n",
      "Magnitude spectra of white noise is a flat line; a constant, so we can take out of equation.\n",
      "\n",
      "As phase of model, use phase of white noise.\n",
      "\n",
      "Take approximation of magnitude spectrum of our signal $|\\hat{X}_l[k]|$ and take random phases $e^{j\\sphericalangle U[k]}$for the modeling of the phase spectrum\n",
      "\n",
      "details of shape are not relevant; rather, approximation of the time varying magnitude spectrum of the input signal.\n",
      "\n",
      "phase = sequence of random numbers"
     ]
    },
    {
     "cell_type": "markdown",
     "metadata": {},
     "source": [
      "### LPC approximation\n",
      "\n",
      "Linear Predictive Coding\n",
      "\n",
      "\n",
      "$\\hat{x}[n] = \\sum\\limits_{k=1}^{K}a_kx[n-k]$ Linear combination of past samples = expression of IR filter \u2014 infinite impulse response filter\u2014linear combination of previous samples; goal=find coefficients\n",
      "\n",
      "$Error=\\sum\\limits_{n=-\\infty }^{n=\\infty}(x[n]+\\sum\\limits_{k=1}^{K} a_kx[n-k])^2$  \u2014 sum of original with approximated ; then narrowed to finite length signals; find a coefficient that minimizes the error signal\n",
      "\n",
      "obtain a sample set of filter coefficients (sub k) and the frequency response of the resulting filter approximates the spectrum\n",
      "\n",
      "voice sound commonly approximated with LPC; a way to approximate the resonances, the formants, of a signal; "
     ]
    },
    {
     "cell_type": "markdown",
     "metadata": {},
     "source": [
      "### Envelope approximation\n",
      "\n",
      "$\\tilde{a}[k] = IDFT(LP(DFT(a[k])))$\n",
      "LP: low-pass filter [only accept lower part of spectrum]\n",
      "\n",
      "$b[k]=IDFT(ZP(DFT(\\tilde{a}[k])))$\n",
      "ZP: zero-padding\n",
      "\n"
     ]
    },
    {
     "cell_type": "markdown",
     "metadata": {},
     "source": [
      "## Stochastic Synthesis using LPC\n",
      "\n",
      "$yst[n] = \\sum\\limits_{k=1}^{K}a_ku[n-k]$\n",
      "$a_k$: filter coefficients\n",
      "$u[n]$: white noise\n",
      "\n",
      "filter of white noise\n",
      "\n",
      "can be direct for or lattice structure"
     ]
    },
    {
     "cell_type": "markdown",
     "metadata": {},
     "source": [
      "## Stochastic Synthesis using envelopes\n",
      "\n",
      "$yst[n]=IDFT(|\\tilde{X}[k]|e^{j\\sphericalangle U[k]})$\n",
      "\n",
      "smooth approximation of the signal; random phases; inverse of DFT\n",
      "\n",
      "stochastic compression (take 1 of every 10 samples of magnitude spectrum\n",
      "\n"
     ]
    },
    {
     "cell_type": "markdown",
     "metadata": {},
     "source": [
      "##7T2: Sinusoidal + Residual Modeling\n",
      "\n",
      "Sinusoidal/Harmonic plus residiual model (SpR, HpR)\n",
      "Residual subtraction\n",
      "Harmonic plus residual system\n",
      "Sinusoidal/Harmonic plus stochastic model (SpS, HpS)\n",
      "Stochastic model of residual\n",
      "Harmonic plus stochastic system\n"
     ]
    },
    {
     "cell_type": "markdown",
     "metadata": {},
     "source": [
      "### Sinusoidal + Residual Model\n",
      "\n",
      "$y[n]=\\sum\\limits_{r=1}^{R}A_r[n]cos(2\\pi f_r[n]n)+xr[n]=ys[n]+xr[n]$\n",
      "\n",
      "$R$: number of sinusoidal components\n",
      "    \n",
      "$A_r[n]$: instantaneous amplitude\n",
      "    \n",
      "$f_r[n]$: instantaneous frequency (Hz)\n",
      "    \n",
      "$xr[n]$=$x[n]-ys[n]$: residual component\n",
      "    \n",
      "$ys[n]$: sinusoidal component"
     ]
    },
    {
     "cell_type": "markdown",
     "metadata": {},
     "source": [
      "### Spectral View \n",
      "\n",
      "We develop from here; sum of the sinusoid as the sum of the transform the windows shifted to a frequency and scaled to the amplitudes of these sinusoids, plus the spectrum of the residiual components.\n",
      "\n",
      "$Y_l[k]=\\sum\\limits_{r=1}^{R_l}A_{(r,l)}W[k-\\hat{f}_{(r,l)}]+Xr_l[k]=Ys_l[k]+Xr_l[k]$]\n",
      "\n",
      "$W[k]$ = spectrum of analysis window\n",
      "\n",
      "$R_l$: number of sinusoidal components\n",
      "\n",
      "$A_{(r,l)}$: amplitude of sinusoid\n",
      "\n",
      "$\\hat{f}_{(r,l)}$: normalized frequency of sinusoid\n",
      "\n",
      "$Xr_l[k]=X_l[k]-Ys_l[k]$: resiudent component spectrum\n",
      "\n",
      "$Ys_l[k]$: sinusoidal component spectrum\n",
      "\n",
      "$l$: frame number\n",
      "\n",
      "subtract generated from spectrum of same size and window=residual spectrum (usual 512 samples); use blackman-harris so it can be easily subtracted\n",
      "\n",
      "inverse of that shows residual signal (e.g. breath noise of flute)"
     ]
    },
    {
     "cell_type": "markdown",
     "metadata": {},
     "source": [
      "\n",
      "To improve stocastic:\n",
      "    \n",
      "    smaller hop size, increase approx size-- A FINER GRAIN\n",
      "    \n",
      "With speak sound (not completely stochastic): 256 Hop, .2 approx\n",
      "    \n",
      "get rid of phase spectrum smooth out magnitude spectrum \u2014 sounds like a whispered type of sound\n",
      "FFT:\n",
      "    \n",
      "Blackman window\u2014stable sound; good for low sidelobes; good signal to noise ratio\n",
      "\n",
      "M:  blackman: 6 bins * fps / fundamental frequency\u2014odd; to minimize rest of components, make bigger\n",
      "        \n",
      "analyze middle of sound\n",
      "    \n",
      "look for high stochastic in high frequencies; less harmonic; not clearly defined as partials\n",
      "\n",
      "1. Apply same parameters to harmonic model\n",
      "\n",
      "inf crease max freq deviation in harmonic track shows unstable harmonics in high (with flute)\n",
      "\n",
      "Stochastic approximation factor: reduces the whole spectrum by 90%\n",
      "\n",
      "For stochastic, no need for odd-sized window or zero-padding for the FFT\n",
      "\n",
      "DV?\n",
      "\n",
      "resample: FFT approach; to downsample a signal\n",
      "\n",
      "xw=x[10000:10000+M] * w\n",
      "mX = 20 * np.log10(abs([X[:"
     ]
    },
    {
     "cell_type": "code",
     "collapsed": false,
     "input": [
      "Blackman is good for stable sound due to low sidelobes; good signal to noise ratio\n",
      "window size: 6 * 44100 / 440 hz\n",
      "    "
     ],
     "language": "python",
     "metadata": {},
     "outputs": []
    },
    {
     "cell_type": "markdown",
     "metadata": {},
     "source": [
      "\n",
      "6*44100/200=1323"
     ]
    },
    {
     "cell_type": "code",
     "collapsed": false,
     "input": [],
     "language": "python",
     "metadata": {},
     "outputs": []
    }
   ],
   "metadata": {}
  }
 ]
}