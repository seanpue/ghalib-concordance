{
 "metadata": {
  "name": "",
  "signature": "sha256:259ede895e0ae23760a2c3f30fbeb2bc0c3494105417057421b2b6aa3011fbd1"
 },
 "nbformat": 3,
 "nbformat_minor": 0,
 "worksheets": [
  {
   "cells": [
    {
     "cell_type": "markdown",
     "metadata": {},
     "source": [
      "# Ghalib Concordance Generator"
     ]
    },
    {
     "cell_type": "markdown",
     "metadata": {},
     "source": [
      "## Description\n",
      "\n",
      "This notebook contains code to generate a concordance for the murav\u0101j d\u012bv\u0101n of Ghalib.\n",
      "\n",
      "Verses are taken from \"input/verses.csv\"\n",
      "\n",
      "The current task is to identify the proper lemma of the tokens, e.g. singular instead of plural,\n",
      "verb infinitive instead of verb root, etc. This can partially be done computationally.\n",
      "\n",
      "Lemma that remain to be checked are in \"output/tocheck.csv\" The first column, if marked as 'x',\n",
      "means that entry is okay. Checked lemma can then be entered into \"input/okay.csv\" using the\n",
      "functions \n",
      "\n"
     ]
    },
    {
     "cell_type": "code",
     "collapsed": false,
     "input": [
      "import re\n",
      "from collections import *\n",
      "import csv"
     ],
     "language": "python",
     "metadata": {},
     "outputs": [],
     "prompt_number": 22
    },
    {
     "cell_type": "heading",
     "level": 2,
     "metadata": {},
     "source": [
      "Variables"
     ]
    },
    {
     "cell_type": "code",
     "collapsed": true,
     "input": [
      "verses = {}                      # dictionary of verses, e.g. 001.01.0='naqsh faryaadii..'\n",
      "tokens = {}                      # dictionary of tokens where key is verses+.xx, e.g. 001.01.0.01 = 'naqsh'\n",
      "unique_tokens = Counter()        # Counter of tokens where value is their count\n",
      "lemmas = defaultdict(list)       # dictionary of tokens where value is a list of their lemmas\n",
      "unique_lemmas = []               # list of unique lemmas\n",
      "okay_lemmas = defaultdict(list)  # dictionary of unique tokens with lists of lemma, e."
     ],
     "language": "python",
     "metadata": {},
     "outputs": [],
     "prompt_number": 23
    },
    {
     "cell_type": "markdown",
     "metadata": {},
     "source": [
      "##Functions"
     ]
    },
    {
     "cell_type": "code",
     "collapsed": true,
     "input": [
      "# moved load_verses, moved to util.py\n",
      "\n",
      "def load_verses(inputfile='input/verses.csv'):\n",
      "    '''\n",
      "    Loads verses from CSV data file\n",
      "    inputfile: name of csv file\n",
      "    returns: verses where verses['ggg.vv.l']=token; where ggg=ghazal #; vv=verse number;l=line number\n",
      "    '''\n",
      "\n",
      "\n",
      "    verses = {}\n",
      "    with open(inputfile,'r') as csvfile:\n",
      "        versereader = csv.reader(csvfile)\n",
      "        for row in versereader:\n",
      "            if len(row)<3: print row\n",
      "            (verse_id, input_string, real_scan) = row # \n",
      "            if not 'x' in verse_id: # only muravvaj divan for now\n",
      "                verses[verse_id] = input_string.strip() \n",
      "    return verses\n",
      "\n",
      "def get_okay_lemmas(inputfile='input/okay.csv'):\n",
      "    '''\n",
      "    Loads checked lemmas from CSV data file\n",
      "    inputfile: name of csv file\n",
      "    returns: checked_lemmas where checked_lemmas['token'] = [lemmas]\n",
      "    '''\n",
      "\n",
      "    import csv\n",
      "    okay_lemmas = {}\n",
      "    with open(inputfile,'r') as csvfile:\n",
      "        versereader = csv.reader(csvfile)\n",
      "        for row in versereader:\n",
      "#            print row\n",
      "            (status, unique_token, lemmas) = row\n",
      "            \n",
      "            assert status in ['','x']\n",
      "            if status=='x':\n",
      "                okay_lemmas[unique_token]=lemmas.split('|')\n",
      "    return okay_lemmas\n",
      "\n",
      "\n",
      "def get_tokens(verses):\n",
      "    '''\n",
      "    Identifies tokens in verses\n",
      "    verses: verses\n",
      "    returns: tokens, where tokens['ggg.vv.l.tt']=token {tt = token # on line starting  at zero}\n",
      "    '''\n",
      "    tokens = {}\n",
      "    token_instances=defaultdict(list)\n",
      "    token_instance_count = Counter()\n",
      "    for k in verses.keys():\n",
      "        v_tokens = verses[k].split(' ')\n",
      "        for id,t in enumerate(v_tokens):\n",
      "\n",
      "            token_id = k+'.'+str(id).zfill(2)\n",
      "            tokens[token_id] = t\n",
      "            token_instances[t].append(token_id)\n",
      "            token_instance_count[t]+=1\n",
      "    return tokens,token_instances,token_instance_count\n",
      "\n",
      "def locate_token(token):\n",
      "    '''\n",
      "    Finds locations of token\n",
      "    token: string \n",
      "    Input: token (string)\n",
      "    returns: a list of locations, e.g. [001.01.0.01]\n",
      "    '''\n",
      "    assert tokens\n",
      "    return [k  for k,v in tokens.iteritems() if v==token]\n",
      "\n",
      "def match_tokens(match_string):\n",
      "    '''\n",
      "    Finds tokens matching a pattern (from start)\n",
      "    match_string: regular expression string (assumes ^,e.g. 'naq')\n",
      "    returns: a list of tokens,e.g. ['naqsh']\n",
      "    '''\n",
      "    assert unique_tokens\n",
      "    return [k  for k in unique_tokens.keys() if re.match(match_string,k)]\n",
      "\n",
      "def search_tokens(match_string):\n",
      "    '''\n",
      "    Searches for tokens matching a pattern (anywhere in it)\n",
      "    match_string: regular expression of string\n",
      "    Input: regular expression string (e.g. 'aqsh'\n",
      "    returns: a list of tokens, e.g. ['naqsh']\n",
      "    '''\n",
      "    assert unique_tokens\n",
      "    return [k  for k in unique_tokens.keys() if re.search(match_string,k)]\n",
      "\n",
      "def get_unique_tokens(tokens):\n",
      "    '''\n",
      "    Finds unique tokens\n",
      "    tokens: a dictionary of tokens at locations, e.g. tokens['001.01.0.00']='naqsh'\n",
      "    returns: a dictionary of unique tokens and their count, unique_tokens['token']=1\n",
      "    '''\n",
      "    unique = Counter()\n",
      "#    print type(tokens)\n",
      "    for k,t in tokens.iteritems():\n",
      "        unique[t]+=1\n",
      "    return unique\n",
      "\n",
      "\n",
      "def get_lemmas(unique_tokens):\n",
      "    '''\n",
      "    Generate lemmas of tokens\n",
      "    unique_tokens: dictionary of unique tokens\n",
      "    returns: lemmas[original_token]=['lemma1','lemma2']\n",
      "    '''\n",
      "    lemmas = {}\n",
      "\n",
      "    \n",
      "    for t in unique_tokens.keys():\n",
      "        lemma = t\n",
      "        if re.search(\"-e$\",t):\n",
      "            lemma = t[:-2] # remove izaafat ending '-e'\n",
      "        if re.search(\"[-']haa$\",t): \n",
      "            lemma = t[:-4] # remove Persian plural ['-]haa ending\n",
      "#            print lemma\n",
      "        t_lemmas = [lemma]\n",
      "        if re.search('-o-',lemma):\n",
      "            nouns = lemma.split('-o-')\n",
      "            t_lemmas = t_lemmas + nouns\n",
      "            \n",
      "        lemmas[t]=t_lemmas\n",
      "    return lemmas\n",
      "\n",
      "def get_unique_lemmas(lemmas):\n",
      "    '''\n",
      "    Generates unique lemma forms\n",
      "    lemmas: dictionary keyed by tokens containing lists of lemma, e.g. lemmas['rang-o-buu']=['rang','buu','rang-o-buu']\n",
      "    returns: unique_lemmas as unique_lemmas['lemma']=count\n",
      "    '''\n",
      "    unique_lemmas = set()\n",
      "    for t,t_lemmas in lemmas.iteritems():\n",
      "        for lemma in t_lemmas:\n",
      "            unique_lemmas.add(lemma)\n",
      "    return unique_lemmas\n",
      "\n",
      "\n",
      "def to_check():\n",
      "    '''\n",
      "    Generates list of unique tokens that still need to be checked.\n",
      "    '''\n",
      "    out = []\n",
      "    return [t for t in sorted(unique_tokens.keys()) if not t in okay_lemmas]\n",
      "\n",
      "def print_stats():\n",
      "    print \"Currently there are \",len(okay_lemmas),\" out of \",len(lemmas)"
     ],
     "language": "python",
     "metadata": {},
     "outputs": [],
     "prompt_number": 24
    },
    {
     "cell_type": "markdown",
     "metadata": {},
     "source": [
      "## Set Variables"
     ]
    },
    {
     "cell_type": "code",
     "collapsed": true,
     "input": [
      "verses = load_verses()\n",
      "tokens,token_instances,token_instance_count = get_tokens(verses)\n",
      "unique_tokens = get_unique_tokens(tokens)\n",
      "\n",
      "lemmas = get_lemmas(unique_tokens)\n",
      "unique_lemmas = get_unique_lemmas(lemmas)\n",
      "okay_lemmas = get_okay_lemmas()\n",
      "\n",
      "okay_tokens_not_in_lemmas = [ok for ok in okay_lemmas if not ok in lemmas]\n",
      "\n",
      "if len(okay_tokens_not_in_lemmas) > 0:\n",
      "    print 'the following tokens are marked as okay but are not any longer'\n",
      "    print okay_tokens_not_in_lemmas"
     ],
     "language": "python",
     "metadata": {},
     "outputs": [],
     "prompt_number": 25
    },
    {
     "cell_type": "markdown",
     "metadata": {},
     "source": [
      "## Update Files"
     ]
    },
    {
     "cell_type": "code",
     "collapsed": true,
     "input": [
      "def update_to_check():\n",
      "    '''\n",
      "    Writes unique tokens not contained in okay_lemmas to output/tocheck.csv\n",
      "    '''\n",
      "    with open('output/tocheck.csv','w') as f:\n",
      "        for t in sorted(unique_tokens.keys()):\n",
      "            if not t in okay_lemmas: # only add unchecked ones\n",
      "                line  = \",\" # good or bad\n",
      "                line += t+\",\" #token\n",
      "                line += '|'.join(lemmas[t]) # possible lemma of token\n",
      "                line += \"\\n\" \n",
      "                f.write(line)\n",
      "\n",
      "def update_okay(inputfile='output/tocheck.csv'):\n",
      "    '''\n",
      "    Loads lemmas noted as correct from inputfile into okay_lemmas\n",
      "    '''\n",
      "    lemmas_to_add = get_okay_lemmas(inputfile=inputfile)\n",
      "    for k,v in lemmas_to_add.iteritems():\n",
      "        if k in okay_lemmas:\n",
      "            print \"WARNING: \",k,\" found in okay_lemmas. Will override.\"\n",
      "        okay_lemmas[k] = v\n",
      "    \n",
      "def write_okay(outputfile='input/okay.csv'):\n",
      "    '''\n",
      "    Writes okay_lemmas to outputfile, as status,token,lemma1|lemma2|lemma3\n",
      "    '''\n",
      "    with open(outputfile,'w') as f:\n",
      "        for t in sorted(okay_lemmas.keys()):\n",
      "            line  = \"x,\" # good or bad\n",
      "            line += t+\",\" #token\n",
      "            line += '|'.join(okay_lemmas[t])\n",
      "            line += \"\\n\" \n",
      "            f.write(line)\n",
      "\n",
      "def update_files():\n",
      "    '''\n",
      "    Loads lemmas noted as correct from tocheck.csv, \n",
      "    Writes okay_lemmas as input/okay.csv\n",
      "    Regenerates output/tocheck.csv\n",
      "    '''\n",
      "    update_okay() \n",
      "    write_okay()\n",
      "    update_to_check()\n",
      "    print_stats()"
     ],
     "language": "python",
     "metadata": {},
     "outputs": [],
     "prompt_number": 26
    },
    {
     "cell_type": "code",
     "collapsed": true,
     "input": [
      "update_files()"
     ],
     "language": "python",
     "metadata": {},
     "outputs": [
      {
       "output_type": "stream",
       "stream": "stdout",
       "text": [
        "Currently there are  4508  out of  4509\n"
       ]
      }
     ],
     "prompt_number": 27
    },
    {
     "cell_type": "markdown",
     "metadata": {},
     "source": [
      "#Concordance Details\n",
      "\n",
      "Generates \"output/conc_details.csv\" which lists lemmas and their sources."
     ]
    },
    {
     "cell_type": "code",
     "collapsed": false,
     "input": [
      "lemmas_out = defaultdict(set)\n",
      "\n",
      "\n",
      "for k,v in okay_lemmas.iteritems(): # k = word; v = lemmas\n",
      "    for l in v:\n",
      "        lemmas_out[l].add(k)\n",
      "\n",
      "with open('output/conc_details.csv','w') as f:\n",
      "    for k,v in sorted(lemmas_out.iteritems()):\n",
      "        f.write(k+','+'|'.join(v)+'\\n')\n",
      "        \n",
      "#okay_lemmas.keys()[0:100]"
     ],
     "language": "python",
     "metadata": {},
     "outputs": [],
     "prompt_number": 28
    },
    {
     "cell_type": "markdown",
     "metadata": {},
     "source": [
      "##Lemma Instances\n",
      "Sorted list of lemma instances."
     ]
    },
    {
     "cell_type": "code",
     "collapsed": false,
     "input": [
      "def instances_of_lemma(lemma):\n",
      "    i=0\n",
      "    for x in lemmas_out[lemma]:\n",
      "        i+= token_instance_count[x]\n",
      "    return i\n",
      "\n",
      "lemma_instance_count = {lemma: instances_of_lemma(lemma) for lemma in lemmas_out.keys()}\n",
      "#instances_of_lemma for\n",
      "#zz=sorted(lemmas_out.keys(),key=instances_of_lemma)#sort_by_instances)#size_of_lemma_by_instances)\n",
      "#for z in zz: print z, instances_of_lemma[zz])\n",
      "with open(\"output/statistics/lemma-counts.csv\",\"w\") as f:\n",
      "    for x in sorted(lemma_instance_count, key=lemma_instance_count.get,reverse=True):\n",
      "        f.write(x+','+str(lemma_instance_count[x])+'\\n')"
     ],
     "language": "python",
     "metadata": {},
     "outputs": [],
     "prompt_number": 29
    },
    {
     "cell_type": "markdown",
     "metadata": {},
     "source": [
      "#Izafats"
     ]
    },
    {
     "cell_type": "markdown",
     "metadata": {},
     "source": [
      "I am not sure yet how we will wind up using these. Probably based on a token location range, similarly to compound verbs, etc. There may be some combos I am not grabbing properly. These will need to lemma-ed later (e.g. nasalization)."
     ]
    },
    {
     "cell_type": "code",
     "collapsed": false,
     "input": [
      "izafat_verse_ids = [v_id for v_id in sorted(verses.keys()) if re.search('-e ',verses[v_id])]\n",
      "izafat_verses = [verses[v_id] for v_id in izafat_verse_ids]"
     ],
     "language": "python",
     "metadata": {},
     "outputs": [],
     "prompt_number": 30
    },
    {
     "cell_type": "code",
     "collapsed": false,
     "input": [
      "izafat_re = re.compile('(?:[^ ]+-e )+(?:z )?[^ ]+')\n",
      "izafats=Counter()\n",
      "for s in izafat_verses:\n",
      "    x = izafat_re.findall(s)#re.findall(m,s)\n",
      "    for y in x:\n",
      "        izafats[y]+=1\n"
     ],
     "language": "python",
     "metadata": {},
     "outputs": [],
     "prompt_number": 31
    },
    {
     "cell_type": "code",
     "collapsed": false,
     "input": [
      "with open('output/izafats.csv','w') as f:\n",
      "    f.write('\\n'.join(sorted(izafats.keys())))"
     ],
     "language": "python",
     "metadata": {},
     "outputs": [],
     "prompt_number": 32
    },
    {
     "cell_type": "markdown",
     "metadata": {},
     "source": [
      "Here also is a version of the tokens where izafat phrases are treated as individual tokens."
     ]
    },
    {
     "cell_type": "code",
     "collapsed": false,
     "input": [
      "iast=Counter() # izafats as tokens, along with tokens\n",
      "iast_re = re.compile('(?:[^ ]+-e )+(?:z )?[^ ]+|[^ ]+')\n",
      "for i,s in verses.iteritems():\n",
      "    words = iast_re.findall(s)\n",
      "    for t in words:\n",
      "        iast[t]+=1\n"
     ],
     "language": "python",
     "metadata": {},
     "outputs": [],
     "prompt_number": 33
    },
    {
     "cell_type": "markdown",
     "metadata": {},
     "source": [
      "##Statistics\n",
      "Word frequencies, etc."
     ]
    },
    {
     "cell_type": "code",
     "collapsed": false,
     "input": [
      "def make_csv_of_token_freq(d, filename):\n",
      "    '''\n",
      "    Generates a CSV file of a dictionary based on numeric value of key, reverse sorted\n",
      "    d: dictionary of tokens and values(token: #)\n",
      "    filename = output file name\n",
      "    '''\n",
      "    with open(filename,'w') as f:\n",
      "        for k,v in d.most_common():\n",
      "            f.write(k+','+str(v)+'\\n')\n",
      "            "
     ],
     "language": "python",
     "metadata": {},
     "outputs": [],
     "prompt_number": 34
    },
    {
     "cell_type": "code",
     "collapsed": false,
     "input": [
      "make_csv_of_token_freq(izafats, 'output/statistics/izafat-freq.csv')\n",
      "make_csv_of_token_freq(unique_tokens, 'output/statistics/uniquetokens-freq.csv')\n",
      "make_csv_of_token_freq(iast, 'output/statistics/izafatastokens-freq.csv')"
     ],
     "language": "python",
     "metadata": {},
     "outputs": [],
     "prompt_number": 35
    },
    {
     "cell_type": "code",
     "collapsed": false,
     "input": [
      "type(izafats)"
     ],
     "language": "python",
     "metadata": {},
     "outputs": [
      {
       "metadata": {},
       "output_type": "pyout",
       "prompt_number": 36,
       "text": [
        "collections.Counter"
       ]
      }
     ],
     "prompt_number": 36
    },
    {
     "cell_type": "code",
     "collapsed": false,
     "input": [
      "lemma_counts_beta=Counter()\n",
      "\n",
      "for token, count in unique_tokens.iteritems():\n",
      "    if token in okay_lemmas:\n",
      "        lemma = okay_lemmas[token][0]\n",
      "    else:\n",
      "        lemma = token\n",
      "    lemma_counts_beta[lemma]+=count\n",
      "lemma_counts_beta\n",
      "make_csv_of_token_freq(lemma_counts_beta,'output/statistics/lemmas-beta-freq.csv')"
     ],
     "language": "python",
     "metadata": {},
     "outputs": [],
     "prompt_number": 37
    },
    {
     "cell_type": "code",
     "collapsed": false,
     "input": [
      "# the following will generate the urdu versions of the statistics (a little slow)"
     ],
     "language": "python",
     "metadata": {},
     "outputs": [],
     "prompt_number": 38
    },
    {
     "cell_type": "code",
     "collapsed": false,
     "input": [
      "import generate_urdu"
     ],
     "language": "python",
     "metadata": {},
     "outputs": [
      {
       "ename": "IOError",
       "evalue": "[Errno 21] Is a directory: 'output/statistics'",
       "output_type": "pyerr",
       "traceback": [
        "\u001b[0;31m---------------------------------------------------------------------------\u001b[0m\n\u001b[0;31mIOError\u001b[0m                                   Traceback (most recent call last)",
        "\u001b[0;32m<ipython-input-43-6fd5f643b2ce>\u001b[0m in \u001b[0;36m<module>\u001b[0;34m()\u001b[0m\n\u001b[0;32m----> 1\u001b[0;31m \u001b[0;32mimport\u001b[0m \u001b[0mgenerate_urdu\u001b[0m\u001b[0;34m\u001b[0m\u001b[0m\n\u001b[0m",
        "\u001b[0;32m/Users/seanpue/gits/ghalib-concordance/generate_urdu.py\u001b[0m in \u001b[0;36m<module>\u001b[0;34m()\u001b[0m\n\u001b[1;32m    125\u001b[0m \u001b[0;31m# <codecell>\u001b[0m\u001b[0;34m\u001b[0m\u001b[0;34m\u001b[0m\u001b[0m\n\u001b[1;32m    126\u001b[0m \u001b[0;34m\u001b[0m\u001b[0m\n\u001b[0;32m--> 127\u001b[0;31m \u001b[0mwrite_all_urdu_statistics\u001b[0m\u001b[0;34m(\u001b[0m\u001b[0;34m)\u001b[0m\u001b[0;34m\u001b[0m\u001b[0m\n\u001b[0m\u001b[1;32m    128\u001b[0m \u001b[0;34m\u001b[0m\u001b[0m\n\u001b[1;32m    129\u001b[0m \u001b[0;31m# <codecell>\u001b[0m\u001b[0;34m\u001b[0m\u001b[0;34m\u001b[0m\u001b[0m\n",
        "\u001b[0;32m/Users/seanpue/gits/ghalib-concordance/generate_urdu.py\u001b[0m in \u001b[0;36mwrite_all_urdu_statistics\u001b[0;34m()\u001b[0m\n\u001b[1;32m    116\u001b[0m \u001b[0;34m\u001b[0m\u001b[0m\n\u001b[1;32m    117\u001b[0m \u001b[0;32mdef\u001b[0m \u001b[0mwrite_all_urdu_statistics\u001b[0m\u001b[0;34m(\u001b[0m\u001b[0;34m)\u001b[0m\u001b[0;34m:\u001b[0m\u001b[0;34m\u001b[0m\u001b[0m\n\u001b[0;32m--> 118\u001b[0;31m     \u001b[0mwrite_urdu_statistics\u001b[0m\u001b[0;34m(\u001b[0m\u001b[0;34m'output/statistics/izafat-freq.csv'\u001b[0m\u001b[0;34m,\u001b[0m\u001b[0;34m'output/statistics'\u001b[0m\u001b[0;34m)\u001b[0m \u001b[0;31m# will contain transliteration for now\u001b[0m\u001b[0;34m\u001b[0m\u001b[0m\n\u001b[0m\u001b[1;32m    119\u001b[0m     \u001b[0mwrite_urdu_statistics\u001b[0m\u001b[0;34m(\u001b[0m\u001b[0;34m'output/statistics/lemmas-beta-freq.csv'\u001b[0m\u001b[0;34m,\u001b[0m\u001b[0;34m'output/statistics/lemmas-beta-freq-ur.csv'\u001b[0m\u001b[0;34m)\u001b[0m\u001b[0;34m\u001b[0m\u001b[0m\n\u001b[1;32m    120\u001b[0m     \u001b[0mwrite_urdu_statistics\u001b[0m\u001b[0;34m(\u001b[0m\u001b[0;34m'output/statistics/uniquetokens-freq.csv'\u001b[0m\u001b[0;34m,\u001b[0m\u001b[0;34m'output/statistics/uniquetokens-freq-ur.csv'\u001b[0m\u001b[0;34m)\u001b[0m\u001b[0;34m\u001b[0m\u001b[0m\n",
        "\u001b[0;32m/Users/seanpue/gits/ghalib-concordance/generate_urdu.py\u001b[0m in \u001b[0;36mwrite_urdu_statistics\u001b[0;34m(inputfile, outputfile, nagari, headers)\u001b[0m\n\u001b[1;32m     95\u001b[0m \u001b[0;34m\u001b[0m\u001b[0m\n\u001b[1;32m     96\u001b[0m \u001b[0;32mdef\u001b[0m \u001b[0mwrite_urdu_statistics\u001b[0m\u001b[0;34m(\u001b[0m\u001b[0minputfile\u001b[0m\u001b[0;34m,\u001b[0m\u001b[0moutputfile\u001b[0m\u001b[0;34m,\u001b[0m\u001b[0mnagari\u001b[0m\u001b[0;34m=\u001b[0m\u001b[0mFalse\u001b[0m\u001b[0;34m,\u001b[0m\u001b[0mheaders\u001b[0m\u001b[0;34m=\u001b[0m\u001b[0mTrue\u001b[0m\u001b[0;34m)\u001b[0m\u001b[0;34m:\u001b[0m\u001b[0;34m\u001b[0m\u001b[0m\n\u001b[0;32m---> 97\u001b[0;31m     \u001b[0;32mwith\u001b[0m \u001b[0mopen\u001b[0m\u001b[0;34m(\u001b[0m\u001b[0moutputfile\u001b[0m\u001b[0;34m,\u001b[0m\u001b[0;34m'w'\u001b[0m\u001b[0;34m)\u001b[0m \u001b[0;32mas\u001b[0m \u001b[0moutput_stream\u001b[0m\u001b[0;34m:\u001b[0m\u001b[0;34m\u001b[0m\u001b[0m\n\u001b[0m\u001b[1;32m     98\u001b[0m         \u001b[0mcsvwriter\u001b[0m \u001b[0;34m=\u001b[0m \u001b[0mUnicodeWriter\u001b[0m\u001b[0;34m(\u001b[0m\u001b[0moutput_stream\u001b[0m\u001b[0;34m)\u001b[0m\u001b[0;34m\u001b[0m\u001b[0m\n\u001b[1;32m     99\u001b[0m         \u001b[0;32mif\u001b[0m \u001b[0mheaders\u001b[0m\u001b[0;34m==\u001b[0m\u001b[0mTrue\u001b[0m\u001b[0;34m:\u001b[0m\u001b[0;34m\u001b[0m\u001b[0m\n",
        "\u001b[0;31mIOError\u001b[0m: [Errno 21] Is a directory: 'output/statistics'"
       ]
      }
     ],
     "prompt_number": 43
    },
    {
     "cell_type": "code",
     "collapsed": false,
     "input": [
      "#redo here\n",
      "reload(generate_urdu)#generate_urdu.write_all_urdu_statistics()"
     ],
     "language": "python",
     "metadata": {},
     "outputs": []
    },
    {
     "cell_type": "markdown",
     "metadata": {},
     "source": [
      "##Quick and Dirty Output\n",
      "\n",
      "This generates some quick output for proofing as .md; this a bit sloppy"
     ]
    },
    {
     "cell_type": "code",
     "collapsed": false,
     "input": [
      "with open('output/lemmas-by-size.txt','w') as f:\n",
      "    for x in sorted(lemma_instance_count, key=lemma_instance_count.get,reverse=True):\n",
      "        words=lemmas_out[x]\n",
      "        words = sorted(words,key=token_instance_count.get, reverse=True)\n",
      "        f.write(x+' '+str(lemma_instance_count[x])+'\\n')\n",
      "        for w in words:\n",
      "            f.write(\"  - \"+w+' '+str(token_instance_count[w])+'\\n')"
     ],
     "language": "python",
     "metadata": {},
     "outputs": [],
     "prompt_number": 40
    },
    {
     "cell_type": "code",
     "collapsed": false,
     "input": [
      "import codecs\n",
      "import sys\n",
      "sys.path.append('./graphparser/')\n",
      "import graphparser\n",
      "urdup = graphparser.GraphParser('./graphparser/settings/urdu.yaml')\n",
      "nagarip = graphparser.GraphParser('./graphparser/settings/devanagari.yaml')\n",
      "\n",
      "def gen_hiur_lemmas_by_size():\n",
      "    import codecs\n",
      "    import sys\n",
      "    sys.path.append('./graphparser/')\n",
      "    import graphparser\n",
      "    urdup = graphparser.GraphParser('./graphparser/settings/urdu.yaml')\n",
      "    nagarip = graphparser.GraphParser('./graphparser/settings/devanagari.yaml')\n",
      "    def out_hiur(w):\n",
      "        return urdup.parse(w).output+' '+nagarip.parse(w).output+' '+w\n",
      "    with codecs.open('output/lemmas-by-size-hiur.md','w','utf-8') as f:\n",
      "        for x in sorted(lemma_instance_count, key=lemma_instance_count.get,reverse=True):\n",
      "            words=lemmas_out[x]\n",
      "            words = sorted(words,key=token_instance_count.get, reverse=True)\n",
      "\n",
      "            f.write(out_hiur(x)+' '+str(lemma_instance_count[x])+'\\n')\n",
      "            for w in words:\n",
      "                f.write(\"  - \"+out_hiur(w)+' '+str(token_instance_count[w])+'\\n')\n",
      "                \n",
      "def out_hiur(w):\n",
      "    return urdup.parse(w).output+' '+nagarip.parse(w).output+' '+w\n",
      "\n",
      "def out_hiur_csv(w):\n",
      "    return urdup.parse(w).output+','+nagarip.parse(w).output+','+w\n",
      "def html_out(w):\n",
      "    return td(urdup.parse(w).output)+td(nagarip.parse(w).output)+td(w)\n",
      "\n",
      "def td(x):\n",
      "    return '<td>'+x+'</td>'\n",
      "\n",
      "def li(x):\n",
      "    return ('<li>'+x+'</li>')\n",
      "def md_link(s,urdu=True):\n",
      "    out =  \" [\"+s+\"]\"\n",
      "    out += \"(\"+'http://www.columbia.edu/itc/mealac/pritchett/00ghalib/'\n",
      "    out += s[0:3]+'/'+s[0:3]+\"_\"+s[4:6]+\".html\"\n",
      "    if urdu==True:\n",
      "        out+=\"?urdu\"\n",
      "    out += \") \"#\n",
      "    return out\n",
      "def a_link(s,urdu=False):\n",
      "    out =  \"<a href='http://www.columbia.edu/itc/mealac/pritchett/00ghalib/\"\n",
      "    out += s[0:3]+'/'+str(int(s[0:3]))+\"_\"+s[4:6]+\".html\"\n",
      "    if urdu==True:\n",
      "        output+=\"?urdu\"\n",
      "    out+=\"'>\"\n",
      "    out += s\n",
      "    out+=\"</a>\"\n",
      "    return out\n",
      "\n",
      "def gen_hiur_lemmas_by_size_hiur(file_name, with_verses=False, truncate=True,truncate_limit=50):\n",
      "\n",
      "    with codecs.open(file_name,'w','utf-8') as f:\n",
      "        for x in sorted(lemma_instance_count, key=lemma_instance_count.get,reverse=True):\n",
      "            words=lemmas_out[x]\n",
      "            words = sorted(words,key=token_instance_count.get, reverse=True)\n",
      "            \n",
      "            f.write(' '+out_hiur(x)+' '+str(lemma_instance_count[x])+'\\n')\n",
      "\n",
      "            for w in words:\n",
      "                f.write(\"  - \")\n",
      "                f.write(\"  - \"+out_hiur(w)+' '+str(token_instance_count[w])+'\\n')\n",
      "                vi = set(x[:-5] for x in token_instances[w]) # eg001.01 from 001.01.01.0\n",
      "\n",
      "                if with_verses==True:\n",
      "                    if (truncate==False) or (truncate==True and len (vi)< truncate_limit):\n",
      "    #                print list(vi)[0]\n",
      "                        f.write(\"    - \")# nested indent\n",
      "                        f.write(', '.join([md_link(v) for v in vi]))\n",
      "                        f.write('\\n')\n",
      "\n",
      "def gen_hiur_lemmas_by_size_ul(file_name='output/hiur-lemmas-by-size-ul.html'):\n",
      "    with codecs.open(file_name,'w','utf-8') as f:\n",
      "        f.write('<!DOCTYPE html>\\n')\n",
      "        f.write('<html lang=\"en-US\">\\n')\n",
      "        f.write('<head><meta charset=\"utf-8\"></head>\\n')\n",
      "        f.write('<body>')\n",
      "\n",
      "\n",
      "        f.write('<table>')\n",
      "        for x in sorted(lemma_instance_count, key=lemma_instance_count.get,reverse=True):\n",
      "            words=lemmas_out[x]\n",
      "            words = sorted(words,key=token_instance_count.get, reverse=True)\n",
      "            f.write('<p><b>'+out_hiur(x)+' '+str(lemma_instance_count[x])+'</b></p>\\n')\n",
      "            f.write('<ul>')\n",
      "            for w in words:\n",
      "                f.write('<li>'+out_hiur(w)+' '+str(token_instance_count[w])+'</li>\\n')\n",
      "            f.write(\"</ul>\")\n",
      "\n",
      "        f.write(\"</body></html>\")\n",
      "\n",
      "def gen_hiur_lemmas(filename='output/hiur-lemmas.html'):\n",
      "    with codecs.open(filename,'w','utf-8') as f:\n",
      "        f.write('<!DOCTYPE html>\\n')\n",
      "        f.write('<html lang=\"en-US\">\\n')\n",
      "        f.write('<head><meta charset=\"utf-8\"></head>\\n')\n",
      "        f.write(\"<body><table>\")\n",
      "        for l,tkns in sorted(lemmas_out.iteritems()):\n",
      "            locs=[]\n",
      "            for t in tkns:\n",
      "                locs += [v[0:6] for v,t_x in tokens.iteritems() if t_x ==t]\n",
      "            locs=sorted(list(set(sorted(locs))))\n",
      "            hyperlocs = [a_link(loc,urdu=False) for loc in locs]\n",
      "            f.write('<tr>'+td(l)+td(urdup.parse(l).output)+td(nagarip.parse(l).output)+td(', '.join(hyperlocs))+'</tr>\\n')\n",
      "#                    print l,urdup.parse(l).output,locs\n",
      "        f.write(\"</table></body></html>\")\n",
      "gen_hiur_lemmas()    "
     ],
     "language": "python",
     "metadata": {},
     "outputs": [],
     "prompt_number": 41
    },
    {
     "cell_type": "code",
     "collapsed": false,
     "input": [
      "#gen_hiur_lemmas_by_size()\n",
      "#gen_hiur_lemmas_by_size_with_verses()\n",
      "#gen_hiur_lemmas_by_size_hiur('output/lemmas-by-size-w-verses-all-hiur.md', with_verses=True, truncate=False)#True,truncate_limit=50):\n",
      "#gen_hiur_lemmas_by_size_hiur('output/lemmas-by-size-countsonly.md', with_verses=False)#True,truncate_limit=50):\n",
      "gen_hiur_lemmas_by_size_ul()"
     ],
     "language": "python",
     "metadata": {},
     "outputs": [],
     "prompt_number": 42
    },
    {
     "cell_type": "code",
     "collapsed": false,
     "input": [],
     "language": "python",
     "metadata": {},
     "outputs": []
    }
   ],
   "metadata": {}
  }
 ]
}