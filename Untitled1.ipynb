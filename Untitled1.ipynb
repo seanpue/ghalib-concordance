{
 "metadata": {
  "name": "",
  "signature": "sha256:a36fb43f7fe65bede7973d25ec728a4869f41715e8e976d6aed816a4dcbfb8d7"
 },
 "nbformat": 3,
 "nbformat_minor": 0,
 "worksheets": [
  {
   "cells": [
    {
     "cell_type": "code",
     "collapsed": false,
     "input": [],
     "language": "python",
     "metadata": {},
     "outputs": []
    }
   ],
   "metadata": {}
  }
 ]
}