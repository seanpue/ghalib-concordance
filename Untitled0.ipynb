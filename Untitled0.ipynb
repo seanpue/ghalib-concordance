{
 "metadata": {
  "name": "",
  "signature": "sha256:a898c70757bb05a7f010492c3075bcf0ce72bd8b213e3f0281d0bd2140410edd"
 },
 "nbformat": 3,
 "nbformat_minor": 0,
 "worksheets": [
  {
   "cells": [
    {
     "cell_type": "code",
     "collapsed": false,
     "input": [
      "from gensim import corpora, models, similarities"
     ],
     "language": "python",
     "metadata": {},
     "outputs": [],
     "prompt_number": 1
    },
    {
     "cell_type": "code",
     "collapsed": false,
     "input": [
      "s = 'naqsh faryaadii hai kis kii sho;xii ta;hriir kaa'"
     ],
     "language": "python",
     "metadata": {},
     "outputs": [],
     "prompt_number": 2
    },
    {
     "cell_type": "code",
     "collapsed": false,
     "input": [],
     "language": "python",
     "metadata": {},
     "outputs": []
    }
   ],
   "metadata": {}
  }
 ]
}