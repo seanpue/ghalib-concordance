{
 "metadata": {
  "name": "",
  "signature": "sha256:4ee66dacb0bad6b0d73ef507ac73100d3fc5c426ec981f92fb08a2730c35b107"
 },
 "nbformat": 3,
 "nbformat_minor": 0,
 "worksheets": [
  {
   "cells": [
    {
     "cell_type": "code",
     "collapsed": false,
     "input": [
      "import codecs\n",
      "import sys\n",
      "sys.path.append('./graphparser/')\n",
      "import graphparser\n",
      "urdup = graphparser.GraphParser('./graphparser/settings/urdu.yaml')\n",
      "nagarip = graphparser.GraphParser('./graphparser/settings/devanagari.yaml')\n",
      "\n"
     ],
     "language": "python",
     "metadata": {},
     "outputs": [],
     "prompt_number": 27
    },
    {
     "cell_type": "code",
     "collapsed": false,
     "input": [
      "print urdup.parse('kyaa').output,nagarip.parse(' ayyaam').output"
     ],
     "language": "python",
     "metadata": {},
     "outputs": [
      {
       "output_type": "stream",
       "stream": "stdout",
       "text": [
        "\u06a9\u06cc\u0627  \u0905\u092f\u092f\u093e\u092e\n"
       ]
      }
     ],
     "prompt_number": 28
    },
    {
     "cell_type": "code",
     "collapsed": false,
     "input": [
      "nagarip.old_parser."
     ],
     "language": "python",
     "metadata": {},
     "outputs": [
      {
       "metadata": {},
       "output_type": "pyout",
       "prompt_number": 24,
       "text": [
        "<oldparser.Parser instance at 0x10c455368>"
       ]
      }
     ],
     "prompt_number": 24
    },
    {
     "cell_type": "code",
     "collapsed": false,
     "input": [],
     "language": "python",
     "metadata": {},
     "outputs": []
    },
    {
     "cell_type": "code",
     "collapsed": false,
     "input": [
      "pwd"
     ],
     "language": "python",
     "metadata": {},
     "outputs": [
      {
       "metadata": {},
       "output_type": "pyout",
       "prompt_number": 17,
       "text": [
        "u'/Users/seanpue/ghalib-concordance'"
       ]
      }
     ],
     "prompt_number": 17
    },
    {
     "cell_type": "code",
     "collapsed": false,
     "input": [
      "nagarip.rules"
     ],
     "language": "python",
     "metadata": {},
     "outputs": [
      {
       "metadata": {},
       "output_type": "pyout",
       "prompt_number": 18,
       "text": [
        "(ParserRule(production=u'\\u092f\\u0939\\u0940', prev_class='wb', prev_tokens=None, tokens=['y', 'i', 'h', 'ii'], next_tokens=None, next_class='wb'),\n",
        " ParserRule(production=u'\\u0941\\u090f\\u0901', prev_class='consonant', prev_tokens=None, tokens=['uu', '))', 'e', ';n'], next_tokens=None, next_class='wb'),\n",
        " ParserRule(production=u'\\u0941\\u0913\\u0902', prev_class='consonant', prev_tokens=None, tokens=['uu', '))', 'o', ';n'], next_tokens=None, next_class='wb'),\n",
        " ParserRule(production=u'\\u0935\\u0939\\u0940', prev_class='wb', prev_tokens=None, tokens=['v', 'u', 'h', 'ii'], next_tokens=None, next_class='wb'),\n",
        " ParserRule(production=u'\\u090f\\u0924', prev_class='wb', prev_tokens=None, tokens=['i', '((', 't', 'i'], next_tokens=None, next_class=None),\n",
        " ParserRule(production=u'\\u2010\\u0939\\u093e-\\u090f-', prev_class=None, prev_tokens=None, tokens=['-', 'h', 'aa', '-e'], next_tokens=None, next_class='wb'),\n",
        " ParserRule(production=u'\\u0915\\u093f', prev_class='wb', prev_tokens=None, tokens=['k', 'i', 'h'], next_tokens=None, next_class='wb'),\n",
        " ParserRule(production=u'\\u0935\\u094b', prev_class='wb', prev_tokens=None, tokens=['v', 'u', 'h'], next_tokens=None, next_class='wb'),\n",
        " ParserRule(production=u'\\u092a\\u0947', prev_class='wb', prev_tokens=None, tokens=['p', 'a', 'h'], next_tokens=None, next_class='wb'),\n",
        " ParserRule(production=u'\\u0939', prev_class='wb', prev_tokens=None, tokens=['<consonant>', 'a', 'h'], next_tokens=None, next_class='wb'),\n",
        " ParserRule(production=u'\\u092f\\u0947', prev_class='wb', prev_tokens=None, tokens=['y', 'i', 'h'], next_tokens=None, next_class='wb'),\n",
        " ParserRule(production=u'\\u0939', prev_class='wb', prev_tokens=None, tokens=['<consonant>', 'a', 'h'], next_tokens=None, next_class='izaafat'),\n",
        " ParserRule(production=u'\\u091a\\u0947', prev_class='consonant', prev_tokens=None, tokens=['ch', 'i', 'h'], next_tokens=None, next_class='wb'),\n",
        " ParserRule(production=u'\\u0928', prev_class='wb', prev_tokens=None, tokens=['n', 'a', 'h'], next_tokens=None, next_class='wb'),\n",
        " ParserRule(production=u'\\u092c', prev_class='wb', prev_tokens=None, tokens=['b', 'a', 'h'], next_tokens=None, next_class='wb'),\n",
        " ParserRule(production=u'\\u0906', prev_class='consonant', prev_tokens=None, tokens=['a', '((', 'aa'], next_tokens=None, next_class=None),\n",
        " ParserRule(production=u'\\u0959\\u0941', prev_class='wb', prev_tokens=None, tokens=[';x', 'v', 'u'], next_tokens=None, next_class=None),\n",
        " ParserRule(production=u'\\u2010\\u0939\\u093e', prev_class=None, prev_tokens=None, tokens=['-', 'h', 'aa'], next_tokens=None, next_class='wb'),\n",
        " ParserRule(production=u'\\u0941\\u0906', prev_class='consonant', prev_tokens=None, tokens=['u', '((', 'aa'], next_tokens=None, next_class=None),\n",
        " ParserRule(production=u'\\u2010\\u0913\\u2010', prev_class=None, prev_tokens=None, tokens=['-', 'o', '-'], next_tokens=None, next_class=None),\n",
        " ParserRule(production=u'\\u0928\\u0924\\u0940', prev_class=None, prev_tokens=None, tokens=['n', 't', 'ii'], next_tokens=None, next_class=None),\n",
        " ParserRule(production=u'\\u0928\\u0924\\u0947', prev_class=None, prev_tokens=None, tokens=['n', 't', 'e'], next_tokens=None, next_class=None),\n",
        " ParserRule(production=u'\\u0928\\u0924\\u093e', prev_class=None, prev_tokens=None, tokens=['n', 't', 'aa'], next_tokens=None, next_class=None),\n",
        " ParserRule(production='', prev_class='consonant', prev_tokens=None, tokens=['a', '(('], next_tokens=None, next_class='vowel'),\n",
        " ParserRule(production=u'\\u0906', prev_class='short_vowel', prev_tokens=None, tokens=['a', 'h'], next_tokens=None, next_class='wb'),\n",
        " ParserRule(production=u'\\u093e', prev_class='consonant', prev_tokens=None, tokens=['a', 'h'], next_tokens=None, next_class='wb'),\n",
        " ParserRule(production=u'\\u0901', prev_class='vowel', prev_tokens=None, tokens=['<e>', ';n'], next_tokens=None, next_class='wb'),\n",
        " ParserRule(production=u'\\u0906', prev_class='vowel', prev_tokens=None, tokens=['a', 'h'], next_tokens=None, next_class='wb'),\n",
        " ParserRule(production=u'\\u093e', prev_class='consonant', prev_tokens=None, tokens=['((', 'a'], next_tokens=None, next_class='wb'),\n",
        " ParserRule(production=u'\\u0928\\u094d\\u0928', prev_class='vowel', prev_tokens=None, tokens=['n', 'n'], next_tokens=None, next_class='vowel'),\n",
        " ParserRule(production=u'\\u093e', prev_class='consonant', prev_tokens=None, tokens=['a', 'h'], next_tokens=None, next_class='izaafat'),\n",
        " ParserRule(production=u'\\u0906', prev_class='wb', prev_tokens=None, tokens=['a', '(('], next_tokens=None, next_class=None),\n",
        " ParserRule(production=u'\\u0909', prev_class='wb', prev_tokens=None, tokens=['((', 'u'], next_tokens=None, next_class=None),\n",
        " ParserRule(production=u'\\u0907', prev_class='vowel', prev_tokens=None, tokens=['((', 'i'], next_tokens=None, next_class=None),\n",
        " ParserRule(production=u'\\u0905', prev_class='wb', prev_tokens=None, tokens=['((', 'a'], next_tokens=None, next_class=None),\n",
        " ParserRule(production=u'\\u0907', prev_class='wb', prev_tokens=None, tokens=['((', 'i'], next_tokens=None, next_class=None),\n",
        " ParserRule(production=u'\\u093e', prev_class='consonant', prev_tokens=None, tokens=['a', '(('], next_tokens=None, next_class=None),\n",
        " ParserRule(production=u'\\u0914', prev_class='wb', prev_tokens=None, tokens=['((', 'au'], next_tokens=None, next_class=None),\n",
        " ParserRule(production=u'\\u0910', prev_class='wb', prev_tokens=None, tokens=['((', 'ai'], next_tokens=None, next_class=None),\n",
        " ParserRule(production=u'\\u0906', prev_class='wb', prev_tokens=None, tokens=['((', 'aa'], next_tokens=None, next_class=None),\n",
        " ParserRule(production=u'\\u0905', prev_class='consonant', prev_tokens=None, tokens=['((', 'a'], next_tokens=None, next_class=None),\n",
        " ParserRule(production=u'\\u0908', prev_class='wb', prev_tokens=None, tokens=['((', 'ii'], next_tokens=None, next_class=None),\n",
        " ParserRule(production=u'\\u0908', prev_class='vowel', prev_tokens=None, tokens=['((', 'ii'], next_tokens=None, next_class=None),\n",
        " ParserRule(production=u'\\u0905', prev_class='vowel', prev_tokens=None, tokens=['((', 'a'], next_tokens=None, next_class=None),\n",
        " ParserRule(production=u'\\u094b', prev_class='consonant', prev_tokens=None, tokens=[';o', '(('], next_tokens=None, next_class=None),\n",
        " ParserRule(production=u'\\u0928', prev_class='vowel', prev_tokens=None, tokens=['n'], next_tokens=None, next_class='wb'),\n",
        " ParserRule(production=u'\\u0901', prev_class='candrabindu_vowel', prev_tokens=None, tokens=[';n'], next_tokens=None, next_class='wb'),\n",
        " ParserRule(production=u'\\u0939', prev_class='wb', prev_tokens=None, tokens=['<consonant>'], next_tokens=None, next_class='short_vowel> <consonant> a h <wb'),\n",
        " ParserRule(production='', prev_class='consonant', prev_tokens=None, tokens=['(('], next_tokens=None, next_class='<izaafat'),\n",
        " ParserRule(production=u'\\u0902', prev_class='vowel', prev_tokens=None, tokens=['n'], next_tokens=None, next_class='consonant'),\n",
        " ParserRule(production=u'\\u0928', prev_class='vowel', prev_tokens=None, tokens=['n'], next_tokens=None, next_class='vowel'),\n",
        " ParserRule(production=u'\\u0902', prev_class='r', prev_tokens=None, tokens=['<consonant>'], next_tokens=None, next_class='candrabindu_vowel> ;n <wb'),\n",
        " ParserRule(production='', prev_class='consonant', prev_tokens=None, tokens=['(('], next_tokens=None, next_class='wb'),\n",
        " ParserRule(production=u'\\u0905', prev_class='vowel', prev_tokens=None, tokens=['a'], next_tokens=None, next_class=None),\n",
        " ParserRule(production=u'\\u0909', prev_class='wb', prev_tokens=None, tokens=['u'], next_tokens=None, next_class=None),\n",
        " ParserRule(production=u'\\u090f', prev_class='wb', prev_tokens=None, tokens=[';e'], next_tokens=None, next_class=None),\n",
        " ParserRule(production=u'\\u0913', prev_class='wb', prev_tokens=None, tokens=[';o'], next_tokens=None, next_class=None),\n",
        " ParserRule(production=u'\\u0905', prev_class='wb', prev_tokens=None, tokens=['a'], next_tokens=None, next_class=None),\n",
        " ParserRule(production=u'\\u090f', prev_class='wb', prev_tokens=None, tokens=['e'], next_tokens=None, next_class=None),\n",
        " ParserRule(production=u'\\u0907', prev_class='wb', prev_tokens=None, tokens=['i'], next_tokens=None, next_class=None),\n",
        " ParserRule(production=u'\\u0913', prev_class='wb', prev_tokens=None, tokens=['o'], next_tokens=None, next_class=None),\n",
        " ParserRule(production=u'\\u0906', prev_class='wb', prev_tokens=None, tokens=['aa'], next_tokens=None, next_class=None),\n",
        " ParserRule(production=u'\\u0910', prev_class='wb', prev_tokens=None, tokens=['ai'], next_tokens=None, next_class=None),\n",
        " ParserRule(production=u'\\u0914', prev_class='wb', prev_tokens=None, tokens=['au'], next_tokens=None, next_class=None),\n",
        " ParserRule(production=u'\\u0908', prev_class='wb', prev_tokens=None, tokens=['ii'], next_tokens=None, next_class=None),\n",
        " ParserRule(production=u'\\u090a', prev_class='vowel', prev_tokens=None, tokens=['uu'], next_tokens=None, next_class=None),\n",
        " ParserRule(production=u'\\u0910', prev_class='short_vowel', prev_tokens=None, tokens=['ai'], next_tokens=None, next_class=None),\n",
        " ParserRule(production=u'\\u2010\\u090f\\u2010', prev_class=None, prev_tokens=None, tokens=['-e'], next_tokens=None, next_class='wb'),\n",
        " ParserRule(production=u'\\u0905', prev_class='short_vowel', prev_tokens=None, tokens=['a'], next_tokens=None, next_class=None),\n",
        " ParserRule(production='', prev_class='izaafat', prev_tokens=None, tokens=[' '], next_tokens=None, next_class=None),\n",
        " ParserRule(production=u'\\u090f', prev_class='vowel', prev_tokens=None, tokens=['e'], next_tokens=None, next_class=None),\n",
        " ParserRule(production=u'\\u0907', prev_class='vowel', prev_tokens=None, tokens=['i'], next_tokens=None, next_class=None),\n",
        " ParserRule(production=u'\\u0913', prev_class='vowel', prev_tokens=None, tokens=['o'], next_tokens=None, next_class=None),\n",
        " ParserRule(production=u'\\u0909', prev_class='vowel', prev_tokens=None, tokens=['u'], next_tokens=None, next_class=None),\n",
        " ParserRule(production=u'\\u0914', prev_class='short_vowel', prev_tokens=None, tokens=['au'], next_tokens=None, next_class=None),\n",
        " ParserRule(production=u'\\u090a', prev_class='wb', prev_tokens=None, tokens=['uu'], next_tokens=None, next_class=None),\n",
        " ParserRule(production=u'\\u094b', prev_class='consonant', prev_tokens=None, tokens=[';o'], next_tokens=None, next_class=None),\n",
        " ParserRule(production=u'\\u0913', prev_class='vowel', prev_tokens=None, tokens=[';o'], next_tokens=None, next_class=None),\n",
        " ParserRule(production=u'\\u0906', prev_class='short_vowel', prev_tokens=None, tokens=['aa'], next_tokens=None, next_class=None),\n",
        " ParserRule(production=u'\\u090b', prev_class='wb', prev_tokens=None, tokens=['.ri'], next_tokens=None, next_class=None),\n",
        " ParserRule(production=u'\\u090b', prev_class='vowel', prev_tokens=None, tokens=['.ri'], next_tokens=None, next_class=None),\n",
        " ParserRule(production=u'\\u0914', prev_class='vowel', prev_tokens=None, tokens=['au'], next_tokens=None, next_class=None),\n",
        " ParserRule(production=u'\\u0908', prev_class='vowel', prev_tokens=None, tokens=['ii'], next_tokens=None, next_class=None),\n",
        " ParserRule(production=u'\\u0906', prev_class='vowel', prev_tokens=None, tokens=['aa'], next_tokens=None, next_class=None),\n",
        " ParserRule(production=u'\\u0910', prev_class='vowel', prev_tokens=None, tokens=['ai'], next_tokens=None, next_class=None),\n",
        " ParserRule(production='', prev_class=None, prev_tokens=None, tokens=['\\x00'], next_tokens=None, next_class=None),\n",
        " ParserRule(production=u'\\u0943', prev_class=None, prev_tokens=None, tokens=['.ri'], next_tokens=None, next_class=None),\n",
        " ParserRule(production=u'\\u0918', prev_class=None, prev_tokens=None, tokens=['gh'], next_tokens=None, next_class=None),\n",
        " ParserRule(production=' ', prev_class=None, prev_tokens=None, tokens=[' '], next_tokens=None, next_class=None),\n",
        " ParserRule(production=u'\\u095d', prev_class=None, prev_tokens=None, tokens=[';rh'], next_tokens=None, next_class=None),\n",
        " ParserRule(production='(', prev_class=None, prev_tokens=None, tokens=['('], next_tokens=None, next_class=None),\n",
        " ParserRule(production=',', prev_class=None, prev_tokens=None, tokens=[','], next_tokens=None, next_class=None),\n",
        " ParserRule(production=u'\\u0925', prev_class=None, prev_tokens=None, tokens=['th'], next_tokens=None, next_class=None),\n",
        " ParserRule(production=u'\\u0928', prev_class=None, prev_tokens=None, tokens=[':n'], next_tokens=None, next_class=None),\n",
        " ParserRule(production='\\n', prev_class=None, prev_tokens=None, tokens=['\\n'], next_tokens=None, next_class=None),\n",
        " ParserRule(production=u'\\u0927', prev_class=None, prev_tokens=None, tokens=['dh'], next_tokens=None, next_class=None),\n",
        " ParserRule(production='', prev_class=None, prev_tokens=None, tokens=['(('], next_tokens=None, next_class=None),\n",
        " ParserRule(production=u'\\u095b', prev_class=None, prev_tokens=None, tokens=[':z'], next_tokens=None, next_class=None),\n",
        " ParserRule(production=u'\\u0924', prev_class=None, prev_tokens=None, tokens=[':t'], next_tokens=None, next_class=None),\n",
        " ParserRule(production=u'\\u0926', prev_class=None, prev_tokens=None, tokens=['d'], next_tokens=None, next_class=None),\n",
        " ParserRule(production=u'\\u0939', prev_class=None, prev_tokens=None, tokens=['h'], next_tokens=None, next_class=None),\n",
        " ParserRule(production=u'\\u0932', prev_class=None, prev_tokens=None, tokens=['l'], next_tokens=None, next_class=None),\n",
        " ParserRule(production=u'\\u092a', prev_class=None, prev_tokens=None, tokens=['p'], next_tokens=None, next_class=None),\n",
        " ParserRule(production=u'\\u0924', prev_class=None, prev_tokens=None, tokens=['t'], next_tokens=None, next_class=None),\n",
        " ParserRule(production='', prev_class=None, prev_tokens=None, tokens=['|'], next_tokens=None, next_class=None),\n",
        " ParserRule(production=u'\\u0938', prev_class=None, prev_tokens=None, tokens=[';s'], next_tokens=None, next_class=None),\n",
        " ParserRule(production=u'\\u095c', prev_class=None, prev_tokens=None, tokens=[';r'], next_tokens=None, next_class=None),\n",
        " ParserRule(production=u'\\u091d\\u093c', prev_class=None, prev_tokens=None, tokens=['zh'], next_tokens=None, next_class=None),\n",
        " ParserRule(production=u'\\u091f', prev_class=None, prev_tokens=None, tokens=[';t'], next_tokens=None, next_class=None),\n",
        " ParserRule(production=u'\\u095b', prev_class=None, prev_tokens=None, tokens=[';z'], next_tokens=None, next_class=None),\n",
        " ParserRule(production=u'\\u0959', prev_class=None, prev_tokens=None, tokens=[';x'], next_tokens=None, next_class=None),\n",
        " ParserRule(production=u'\\u0922', prev_class=None, prev_tokens=None, tokens=[';dh'], next_tokens=None, next_class=None),\n",
        " ParserRule(production=u'\\u0947', prev_class=None, prev_tokens=None, tokens=[';e'], next_tokens=None, next_class=None),\n",
        " ParserRule(production=u'\\u0921', prev_class=None, prev_tokens=None, tokens=[';d'], next_tokens=None, next_class=None),\n",
        " ParserRule(production=u'\\u0939', prev_class=None, prev_tokens=None, tokens=[';h'], next_tokens=None, next_class=None),\n",
        " ParserRule(production=u'\\u0902', prev_class=None, prev_tokens=None, tokens=[';n'], next_tokens=None, next_class=None),\n",
        " ParserRule(production=u'\\u0901', prev_class=None, prev_tokens=None, tokens=[';m'], next_tokens=None, next_class=None),\n",
        " ParserRule(production=u'\\u0920', prev_class=None, prev_tokens=None, tokens=[';th'], next_tokens=None, next_class=None),\n",
        " ParserRule(production='', prev_class=None, prev_tokens=None, tokens=[\"'\"], next_tokens=None, next_class=None),\n",
        " ParserRule(production='', prev_class=None, prev_tokens=None, tokens=['/'], next_tokens=None, next_class=None),\n",
        " ParserRule(production=u';', prev_class=None, prev_tokens=None, tokens=[';'], next_tokens=None, next_class=None),\n",
        " ParserRule(production='?', prev_class=None, prev_tokens=None, tokens=['?'], next_tokens=None, next_class=None),\n",
        " ParserRule(production=u'\\u092d', prev_class=None, prev_tokens=None, tokens=['bh'], next_tokens=None, next_class=None),\n",
        " ParserRule(production=u'\\u091d', prev_class=None, prev_tokens=None, tokens=['jh'], next_tokens=None, next_class=None),\n",
        " ParserRule(production='', prev_class=None, prev_tokens=None, tokens=['_'], next_tokens=None, next_class=None),\n",
        " ParserRule(production=u'\\u0938', prev_class=None, prev_tokens=None, tokens=['.s'], next_tokens=None, next_class=None),\n",
        " ParserRule(production=u'\\u0917', prev_class=None, prev_tokens=None, tokens=['g'], next_tokens=None, next_class=None),\n",
        " ParserRule(production=u'\\u0915', prev_class=None, prev_tokens=None, tokens=['k'], next_tokens=None, next_class=None),\n",
        " ParserRule(production=u'\\u093e', prev_class=None, prev_tokens=None, tokens=[';aa'], next_tokens=None, next_class=None),\n",
        " ParserRule(production=u'\\u094b', prev_class=None, prev_tokens=None, tokens=['o'], next_tokens=None, next_class=None),\n",
        " ParserRule(production=u'\\u0938', prev_class=None, prev_tokens=None, tokens=['s'], next_tokens=None, next_class=None),\n",
        " ParserRule(production='', prev_class=None, prev_tokens=None, tokens=['w'], next_tokens=None, next_class=None),\n",
        " ParserRule(production=u'\\u091a', prev_class=None, prev_tokens=None, tokens=['ch'], next_tokens=None, next_class=None),\n",
        " ParserRule(production='', prev_class=None, prev_tokens=None, tokens=['))'], next_tokens=None, next_class=None),\n",
        " ParserRule(production=u'\\u091b', prev_class=None, prev_tokens=None, tokens=['chh'], next_tokens=None, next_class=None),\n",
        " ParserRule(production=u'\\u092b', prev_class=None, prev_tokens=None, tokens=['ph'], next_tokens=None, next_class=None),\n",
        " ParserRule(production=u'\\u092c', prev_class=None, prev_tokens=None, tokens=['b'], next_tokens=None, next_class=None),\n",
        " ParserRule(production=u'\\u095e', prev_class=None, prev_tokens=None, tokens=['f'], next_tokens=None, next_class=None),\n",
        " ParserRule(production=u'\\u0942', prev_class=None, prev_tokens=None, tokens=['uu'], next_tokens=None, next_class=None),\n",
        " ParserRule(production=u'\\u091c', prev_class=None, prev_tokens=None, tokens=['j'], next_tokens=None, next_class=None),\n",
        " ParserRule(production=u'\\u0928', prev_class=None, prev_tokens=None, tokens=['n'], next_tokens=None, next_class=None),\n",
        " ParserRule(production=u'\\u095b', prev_class=None, prev_tokens=None, tokens=['.z'], next_tokens=None, next_class=None),\n",
        " ParserRule(production=u'\\u0930', prev_class=None, prev_tokens=None, tokens=['r'], next_tokens=None, next_class=None),\n",
        " ParserRule(production=u'\\u0935', prev_class=None, prev_tokens=None, tokens=['v'], next_tokens=None, next_class=None),\n",
        " ParserRule(production=u'\\u095b', prev_class=None, prev_tokens=None, tokens=['z'], next_tokens=None, next_class=None),\n",
        " ParserRule(production=u'\\u093e', prev_class=None, prev_tokens=None, tokens=['aa'], next_tokens=None, next_class=None),\n",
        " ParserRule(production=u'\\u0916', prev_class=None, prev_tokens=None, tokens=['kh'], next_tokens=None, next_class=None),\n",
        " ParserRule(production=u'\\u0948', prev_class=None, prev_tokens=None, tokens=['ai'], next_tokens=None, next_class=None),\n",
        " ParserRule(production=u'\\u0940', prev_class=None, prev_tokens=None, tokens=['ii'], next_tokens=None, next_class=None),\n",
        " ParserRule(production=u'\\u094c', prev_class=None, prev_tokens=None, tokens=['au'], next_tokens=None, next_class=None),\n",
        " ParserRule(production=')', prev_class=None, prev_tokens=None, tokens=[')'], next_tokens=None, next_class=None),\n",
        " ParserRule(production='', prev_class=None, prev_tokens=None, tokens=['-'], next_tokens=None, next_class=None),\n",
        " ParserRule(production=u'\\u095a', prev_class=None, prev_tokens=None, tokens=[';g'], next_tokens=None, next_class=None),\n",
        " ParserRule(production='', prev_class=None, prev_tokens=None, tokens=['a'], next_tokens=None, next_class=None),\n",
        " ParserRule(production=u'\\u0947', prev_class=None, prev_tokens=None, tokens=['e'], next_tokens=None, next_class=None),\n",
        " ParserRule(production=u'\\u093f', prev_class=None, prev_tokens=None, tokens=['i'], next_tokens=None, next_class=None),\n",
        " ParserRule(production=u'\\u092e', prev_class=None, prev_tokens=None, tokens=['m'], next_tokens=None, next_class=None),\n",
        " ParserRule(production=u'\\u0958', prev_class=None, prev_tokens=None, tokens=['q'], next_tokens=None, next_class=None),\n",
        " ParserRule(production=u'\\u0936', prev_class=None, prev_tokens=None, tokens=['sh'], next_tokens=None, next_class=None),\n",
        " ParserRule(production=u'\\u0941', prev_class=None, prev_tokens=None, tokens=['u'], next_tokens=None, next_class=None),\n",
        " ParserRule(production=u'\\u092f', prev_class=None, prev_tokens=None, tokens=['y'], next_tokens=None, next_class=None))"
       ]
      }
     ],
     "prompt_number": 18
    },
    {
     "cell_type": "code",
     "collapsed": false,
     "input": [],
     "language": "python",
     "metadata": {},
     "outputs": []
    }
   ],
   "metadata": {}
  }
 ]
}