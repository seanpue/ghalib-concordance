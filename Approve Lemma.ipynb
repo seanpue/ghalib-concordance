{
 "metadata": {
  "name": "",
  "signature": "sha256:33b0771bf3aa9c39065f6b6adf6a76325fcb3d84b2c6ae529ea74e1f55e465b5"
 },
 "nbformat": 3,
 "nbformat_minor": 0,
 "worksheets": [
  {
   "cells": [
    {
     "cell_type": "markdown",
     "metadata": {},
     "source": [
      "#Lemma Approver\n",
      "This code approves lemma based on morphology, etc."
     ]
    },
    {
     "cell_type": "code",
     "collapsed": false,
     "input": [
      "from generator import *"
     ],
     "language": "python",
     "metadata": {},
     "outputs": [
      {
       "output_type": "stream",
       "stream": "stdout",
       "text": [
        "Currently there are  235  out of  4101\n"
       ]
      }
     ],
     "prompt_number": 1
    },
    {
     "cell_type": "code",
     "collapsed": false,
     "input": [
      "tokens_remaining = to_check() # gets list of tokens to check\n",
      "\n",
      "def ends_with(s):\n",
      "    out = []\n",
      "    for t in tokens_remaining:\n",
      "        i = 0-len(s)\n",
      "        if t[i:]==s:\n",
      "            out.append(t)\n",
      "    return out\n",
      "\n",
      "def print_ends_with(s):\n",
      "    tokens =ends_with(s)\n",
      "    print ', '.join(ends_with(s))\n",
      "\n",
      "def mark_okay_lemmas(are_okay):\n",
      "\n",
      "    assert type(are_okay)==list\n",
      "    for t in are_okay:\n",
      "        okay_lemmas[t] = lemmas[t]"
     ],
     "language": "python",
     "metadata": {},
     "outputs": [],
     "prompt_number": 12
    },
    {
     "cell_type": "code",
     "collapsed": false,
     "input": [
      "print_ends_with('uu')"
     ],
     "language": "python",
     "metadata": {},
     "outputs": [
      {
       "output_type": "stream",
       "stream": "stdout",
       "text": [
        ";xuu, aa;nsuu, aab-juu, aab-ruu, aabruu, aahuu, aarzuu, abruu, baazuu, bad-;xuu, be-aabruu, buu, dast-o-baazuu, diivaar-juu, fitnah-;xuu, guftaguu, guftguu, guluu, jaam-o-subuu, just-juu, justajuu, kisuu, lahuu, lakhna))uu, mushk-buu, muu, numuu, pahluu, pai;gaarah-juu, qad-o-gesuu, rafuu, ruu, ruubaruu, shiishah-o-qada;h-o-kuuzah-o-sabuu, sust-ruu, suu, tund-;xuu, tuu, zaanuu\n"
       ]
      }
     ],
     "prompt_number": 13
    },
    {
     "cell_type": "code",
     "collapsed": false,
     "input": [
      "mark_okay_lemmas(ends_with('uu'))"
     ],
     "language": "python",
     "metadata": {},
     "outputs": [],
     "prompt_number": 14
    },
    {
     "cell_type": "code",
     "collapsed": false,
     "input": [
      "update_files()"
     ],
     "language": "python",
     "metadata": {},
     "outputs": [],
     "prompt_number": 15
    },
    {
     "cell_type": "code",
     "collapsed": false,
     "input": [
      "print_stats()"
     ],
     "language": "python",
     "metadata": {},
     "outputs": [
      {
       "output_type": "stream",
       "stream": "stdout",
       "text": [
        "Currently there are  274  out of  4101\n"
       ]
      }
     ],
     "prompt_number": 16
    },
    {
     "cell_type": "code",
     "collapsed": false,
     "input": [],
     "language": "python",
     "metadata": {},
     "outputs": []
    }
   ],
   "metadata": {}
  }
 ]
}